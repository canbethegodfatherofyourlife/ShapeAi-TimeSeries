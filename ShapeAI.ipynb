{
  "nbformat": 4,
  "nbformat_minor": 0,
  "metadata": {
    "colab": {
      "name": "ShapeAI.ipynb",
      "provenance": []
    },
    "kernelspec": {
      "name": "python3",
      "display_name": "Python 3"
    },
    "language_info": {
      "name": "python"
    }
  },
  "cells": [
    {
      "cell_type": "code",
      "metadata": {
        "id": "ZzxtHa7taHUH"
      },
      "source": [
        "import pandas as pd \n",
        "import numpy as np\n"
      ],
      "execution_count": 66,
      "outputs": []
    },
    {
      "cell_type": "code",
      "metadata": {
        "colab": {
          "base_uri": "https://localhost:8080/",
          "height": 417
        },
        "id": "puq_H75PbCkp",
        "outputId": "e2655093-ba78-4ef9-93a5-2fee904da230"
      },
      "source": [
        "df = pd.read_csv(\"/content/Uniqlo(FastRetailing) 2012-2016 Training - stocks2012-2016.csv\")\n",
        "df"
      ],
      "execution_count": 67,
      "outputs": [
        {
          "output_type": "execute_result",
          "data": {
            "text/html": [
              "<div>\n",
              "<style scoped>\n",
              "    .dataframe tbody tr th:only-of-type {\n",
              "        vertical-align: middle;\n",
              "    }\n",
              "\n",
              "    .dataframe tbody tr th {\n",
              "        vertical-align: top;\n",
              "    }\n",
              "\n",
              "    .dataframe thead th {\n",
              "        text-align: right;\n",
              "    }\n",
              "</style>\n",
              "<table border=\"1\" class=\"dataframe\">\n",
              "  <thead>\n",
              "    <tr style=\"text-align: right;\">\n",
              "      <th></th>\n",
              "      <th>Date</th>\n",
              "      <th>Open</th>\n",
              "      <th>High</th>\n",
              "      <th>Low</th>\n",
              "      <th>Close</th>\n",
              "      <th>Volume</th>\n",
              "      <th>Stock Trading</th>\n",
              "    </tr>\n",
              "  </thead>\n",
              "  <tbody>\n",
              "    <tr>\n",
              "      <th>0</th>\n",
              "      <td>2016-12-30</td>\n",
              "      <td>42120</td>\n",
              "      <td>42330</td>\n",
              "      <td>41700</td>\n",
              "      <td>41830</td>\n",
              "      <td>610000</td>\n",
              "      <td>25628028000</td>\n",
              "    </tr>\n",
              "    <tr>\n",
              "      <th>1</th>\n",
              "      <td>2016-12-29</td>\n",
              "      <td>43000</td>\n",
              "      <td>43220</td>\n",
              "      <td>42540</td>\n",
              "      <td>42660</td>\n",
              "      <td>448400</td>\n",
              "      <td>19188227000</td>\n",
              "    </tr>\n",
              "    <tr>\n",
              "      <th>2</th>\n",
              "      <td>2016-12-28</td>\n",
              "      <td>43940</td>\n",
              "      <td>43970</td>\n",
              "      <td>43270</td>\n",
              "      <td>43270</td>\n",
              "      <td>339900</td>\n",
              "      <td>14780670000</td>\n",
              "    </tr>\n",
              "    <tr>\n",
              "      <th>3</th>\n",
              "      <td>2016-12-27</td>\n",
              "      <td>43140</td>\n",
              "      <td>43700</td>\n",
              "      <td>43140</td>\n",
              "      <td>43620</td>\n",
              "      <td>400100</td>\n",
              "      <td>17427993000</td>\n",
              "    </tr>\n",
              "    <tr>\n",
              "      <th>4</th>\n",
              "      <td>2016-12-26</td>\n",
              "      <td>43310</td>\n",
              "      <td>43660</td>\n",
              "      <td>43090</td>\n",
              "      <td>43340</td>\n",
              "      <td>358200</td>\n",
              "      <td>15547803000</td>\n",
              "    </tr>\n",
              "    <tr>\n",
              "      <th>...</th>\n",
              "      <td>...</td>\n",
              "      <td>...</td>\n",
              "      <td>...</td>\n",
              "      <td>...</td>\n",
              "      <td>...</td>\n",
              "      <td>...</td>\n",
              "      <td>...</td>\n",
              "    </tr>\n",
              "    <tr>\n",
              "      <th>1221</th>\n",
              "      <td>2012-01-11</td>\n",
              "      <td>14360</td>\n",
              "      <td>14750</td>\n",
              "      <td>14280</td>\n",
              "      <td>14590</td>\n",
              "      <td>1043400</td>\n",
              "      <td>15191988000</td>\n",
              "    </tr>\n",
              "    <tr>\n",
              "      <th>1222</th>\n",
              "      <td>2012-01-10</td>\n",
              "      <td>13890</td>\n",
              "      <td>14390</td>\n",
              "      <td>13860</td>\n",
              "      <td>14390</td>\n",
              "      <td>952300</td>\n",
              "      <td>13533413000</td>\n",
              "    </tr>\n",
              "    <tr>\n",
              "      <th>1223</th>\n",
              "      <td>2012-01-06</td>\n",
              "      <td>13990</td>\n",
              "      <td>14030</td>\n",
              "      <td>13790</td>\n",
              "      <td>13850</td>\n",
              "      <td>765500</td>\n",
              "      <td>10635609000</td>\n",
              "    </tr>\n",
              "    <tr>\n",
              "      <th>1224</th>\n",
              "      <td>2012-01-05</td>\n",
              "      <td>13720</td>\n",
              "      <td>13840</td>\n",
              "      <td>13600</td>\n",
              "      <td>13800</td>\n",
              "      <td>511500</td>\n",
              "      <td>7030811000</td>\n",
              "    </tr>\n",
              "    <tr>\n",
              "      <th>1225</th>\n",
              "      <td>2012-01-04</td>\n",
              "      <td>14050</td>\n",
              "      <td>14050</td>\n",
              "      <td>13700</td>\n",
              "      <td>13720</td>\n",
              "      <td>559100</td>\n",
              "      <td>7719804000</td>\n",
              "    </tr>\n",
              "  </tbody>\n",
              "</table>\n",
              "<p>1226 rows × 7 columns</p>\n",
              "</div>"
            ],
            "text/plain": [
              "            Date   Open   High    Low  Close   Volume  Stock Trading\n",
              "0     2016-12-30  42120  42330  41700  41830   610000    25628028000\n",
              "1     2016-12-29  43000  43220  42540  42660   448400    19188227000\n",
              "2     2016-12-28  43940  43970  43270  43270   339900    14780670000\n",
              "3     2016-12-27  43140  43700  43140  43620   400100    17427993000\n",
              "4     2016-12-26  43310  43660  43090  43340   358200    15547803000\n",
              "...          ...    ...    ...    ...    ...      ...            ...\n",
              "1221  2012-01-11  14360  14750  14280  14590  1043400    15191988000\n",
              "1222  2012-01-10  13890  14390  13860  14390   952300    13533413000\n",
              "1223  2012-01-06  13990  14030  13790  13850   765500    10635609000\n",
              "1224  2012-01-05  13720  13840  13600  13800   511500     7030811000\n",
              "1225  2012-01-04  14050  14050  13700  13720   559100     7719804000\n",
              "\n",
              "[1226 rows x 7 columns]"
            ]
          },
          "metadata": {},
          "execution_count": 67
        }
      ]
    },
    {
      "cell_type": "code",
      "metadata": {
        "colab": {
          "base_uri": "https://localhost:8080/",
          "height": 203
        },
        "id": "Qtv52s-6rKaX",
        "outputId": "060fe058-7949-42ae-e193-e07d916d0cdf"
      },
      "source": [
        "df.head()"
      ],
      "execution_count": 69,
      "outputs": [
        {
          "output_type": "execute_result",
          "data": {
            "text/html": [
              "<div>\n",
              "<style scoped>\n",
              "    .dataframe tbody tr th:only-of-type {\n",
              "        vertical-align: middle;\n",
              "    }\n",
              "\n",
              "    .dataframe tbody tr th {\n",
              "        vertical-align: top;\n",
              "    }\n",
              "\n",
              "    .dataframe thead th {\n",
              "        text-align: right;\n",
              "    }\n",
              "</style>\n",
              "<table border=\"1\" class=\"dataframe\">\n",
              "  <thead>\n",
              "    <tr style=\"text-align: right;\">\n",
              "      <th></th>\n",
              "      <th>Date</th>\n",
              "      <th>Open</th>\n",
              "      <th>High</th>\n",
              "      <th>Low</th>\n",
              "      <th>Close</th>\n",
              "      <th>Volume</th>\n",
              "      <th>Stock Trading</th>\n",
              "    </tr>\n",
              "  </thead>\n",
              "  <tbody>\n",
              "    <tr>\n",
              "      <th>0</th>\n",
              "      <td>2016-12-30</td>\n",
              "      <td>42120</td>\n",
              "      <td>42330</td>\n",
              "      <td>41700</td>\n",
              "      <td>41830</td>\n",
              "      <td>610000</td>\n",
              "      <td>25628028000</td>\n",
              "    </tr>\n",
              "    <tr>\n",
              "      <th>1</th>\n",
              "      <td>2016-12-29</td>\n",
              "      <td>43000</td>\n",
              "      <td>43220</td>\n",
              "      <td>42540</td>\n",
              "      <td>42660</td>\n",
              "      <td>448400</td>\n",
              "      <td>19188227000</td>\n",
              "    </tr>\n",
              "    <tr>\n",
              "      <th>2</th>\n",
              "      <td>2016-12-28</td>\n",
              "      <td>43940</td>\n",
              "      <td>43970</td>\n",
              "      <td>43270</td>\n",
              "      <td>43270</td>\n",
              "      <td>339900</td>\n",
              "      <td>14780670000</td>\n",
              "    </tr>\n",
              "    <tr>\n",
              "      <th>3</th>\n",
              "      <td>2016-12-27</td>\n",
              "      <td>43140</td>\n",
              "      <td>43700</td>\n",
              "      <td>43140</td>\n",
              "      <td>43620</td>\n",
              "      <td>400100</td>\n",
              "      <td>17427993000</td>\n",
              "    </tr>\n",
              "    <tr>\n",
              "      <th>4</th>\n",
              "      <td>2016-12-26</td>\n",
              "      <td>43310</td>\n",
              "      <td>43660</td>\n",
              "      <td>43090</td>\n",
              "      <td>43340</td>\n",
              "      <td>358200</td>\n",
              "      <td>15547803000</td>\n",
              "    </tr>\n",
              "  </tbody>\n",
              "</table>\n",
              "</div>"
            ],
            "text/plain": [
              "         Date   Open   High    Low  Close  Volume  Stock Trading\n",
              "0  2016-12-30  42120  42330  41700  41830  610000    25628028000\n",
              "1  2016-12-29  43000  43220  42540  42660  448400    19188227000\n",
              "2  2016-12-28  43940  43970  43270  43270  339900    14780670000\n",
              "3  2016-12-27  43140  43700  43140  43620  400100    17427993000\n",
              "4  2016-12-26  43310  43660  43090  43340  358200    15547803000"
            ]
          },
          "metadata": {},
          "execution_count": 69
        }
      ]
    },
    {
      "cell_type": "code",
      "metadata": {
        "colab": {
          "base_uri": "https://localhost:8080/",
          "height": 203
        },
        "id": "v4h-tWpzrUd4",
        "outputId": "50915ba9-5030-4f54-f6af-9cb1f696088e"
      },
      "source": [
        "df.tail()"
      ],
      "execution_count": 70,
      "outputs": [
        {
          "output_type": "execute_result",
          "data": {
            "text/html": [
              "<div>\n",
              "<style scoped>\n",
              "    .dataframe tbody tr th:only-of-type {\n",
              "        vertical-align: middle;\n",
              "    }\n",
              "\n",
              "    .dataframe tbody tr th {\n",
              "        vertical-align: top;\n",
              "    }\n",
              "\n",
              "    .dataframe thead th {\n",
              "        text-align: right;\n",
              "    }\n",
              "</style>\n",
              "<table border=\"1\" class=\"dataframe\">\n",
              "  <thead>\n",
              "    <tr style=\"text-align: right;\">\n",
              "      <th></th>\n",
              "      <th>Date</th>\n",
              "      <th>Open</th>\n",
              "      <th>High</th>\n",
              "      <th>Low</th>\n",
              "      <th>Close</th>\n",
              "      <th>Volume</th>\n",
              "      <th>Stock Trading</th>\n",
              "    </tr>\n",
              "  </thead>\n",
              "  <tbody>\n",
              "    <tr>\n",
              "      <th>1221</th>\n",
              "      <td>2012-01-11</td>\n",
              "      <td>14360</td>\n",
              "      <td>14750</td>\n",
              "      <td>14280</td>\n",
              "      <td>14590</td>\n",
              "      <td>1043400</td>\n",
              "      <td>15191988000</td>\n",
              "    </tr>\n",
              "    <tr>\n",
              "      <th>1222</th>\n",
              "      <td>2012-01-10</td>\n",
              "      <td>13890</td>\n",
              "      <td>14390</td>\n",
              "      <td>13860</td>\n",
              "      <td>14390</td>\n",
              "      <td>952300</td>\n",
              "      <td>13533413000</td>\n",
              "    </tr>\n",
              "    <tr>\n",
              "      <th>1223</th>\n",
              "      <td>2012-01-06</td>\n",
              "      <td>13990</td>\n",
              "      <td>14030</td>\n",
              "      <td>13790</td>\n",
              "      <td>13850</td>\n",
              "      <td>765500</td>\n",
              "      <td>10635609000</td>\n",
              "    </tr>\n",
              "    <tr>\n",
              "      <th>1224</th>\n",
              "      <td>2012-01-05</td>\n",
              "      <td>13720</td>\n",
              "      <td>13840</td>\n",
              "      <td>13600</td>\n",
              "      <td>13800</td>\n",
              "      <td>511500</td>\n",
              "      <td>7030811000</td>\n",
              "    </tr>\n",
              "    <tr>\n",
              "      <th>1225</th>\n",
              "      <td>2012-01-04</td>\n",
              "      <td>14050</td>\n",
              "      <td>14050</td>\n",
              "      <td>13700</td>\n",
              "      <td>13720</td>\n",
              "      <td>559100</td>\n",
              "      <td>7719804000</td>\n",
              "    </tr>\n",
              "  </tbody>\n",
              "</table>\n",
              "</div>"
            ],
            "text/plain": [
              "            Date   Open   High    Low  Close   Volume  Stock Trading\n",
              "1221  2012-01-11  14360  14750  14280  14590  1043400    15191988000\n",
              "1222  2012-01-10  13890  14390  13860  14390   952300    13533413000\n",
              "1223  2012-01-06  13990  14030  13790  13850   765500    10635609000\n",
              "1224  2012-01-05  13720  13840  13600  13800   511500     7030811000\n",
              "1225  2012-01-04  14050  14050  13700  13720   559100     7719804000"
            ]
          },
          "metadata": {},
          "execution_count": 70
        }
      ]
    },
    {
      "cell_type": "code",
      "metadata": {
        "id": "fbdiEIbHrd6m"
      },
      "source": [
        "df = df['High']"
      ],
      "execution_count": 71,
      "outputs": []
    },
    {
      "cell_type": "code",
      "metadata": {
        "id": "QOA8RpNcrj6j"
      },
      "source": [
        "import matplotlib.pyplot as plt\n",
        "\n",
        "def plot_series(data):\n",
        "  for df in data :\n",
        "    plt.plot(df)\n",
        "  plt.show()\n",
        "\n"
      ],
      "execution_count": 72,
      "outputs": []
    },
    {
      "cell_type": "code",
      "metadata": {
        "id": "v6_KHVt-tu85"
      },
      "source": [
        "train = df[:int(0.8*len(df))]\n",
        "test = df[int(0.8*len(df)) :]"
      ],
      "execution_count": 73,
      "outputs": []
    },
    {
      "cell_type": "code",
      "metadata": {
        "id": "mmbk0YO7ubHR"
      },
      "source": [
        "def arrange(data,window=10):\n",
        "  x = []\n",
        "  y = []\n",
        "\n",
        "  for i,val in enumerate(data):\n",
        "    if i<window:\n",
        "      continue\n",
        "    x.append(data[i-window :i-1].values.reshape(-1,1))\n",
        "    y.append(data[i:i+1].values.reshape(-1,1))\n",
        "\n",
        "  x = np.asarray(x)\n",
        "  y = np.asarray(y)\n",
        "\n",
        "  return x,y"
      ],
      "execution_count": 74,
      "outputs": []
    },
    {
      "cell_type": "code",
      "metadata": {
        "colab": {
          "base_uri": "https://localhost:8080/"
        },
        "id": "P8Jaan-dvVTf",
        "outputId": "9610214b-a261-4c81-95fc-38961b3ad1fc"
      },
      "source": [
        "X_train, y_train = arrange(train,15)\n",
        "print(\"x_shape is: {} and y-shape is: {}\".format(X_train.shape , y_train.shape))"
      ],
      "execution_count": 75,
      "outputs": [
        {
          "output_type": "stream",
          "text": [
            "x_shape is: (965, 14, 1) and y-shape is: (965, 1, 1)\n"
          ],
          "name": "stdout"
        }
      ]
    },
    {
      "cell_type": "code",
      "metadata": {
        "colab": {
          "base_uri": "https://localhost:8080/"
        },
        "id": "huLm553hxOiG",
        "outputId": "e5530c5f-817f-43cd-8aec-1f10066683e7"
      },
      "source": [
        "print(X_train[0])\n",
        "print(y_train[0])"
      ],
      "execution_count": 76,
      "outputs": [
        {
          "output_type": "stream",
          "text": [
            "[[42330]\n",
            " [43220]\n",
            " [43970]\n",
            " [43700]\n",
            " [43660]\n",
            " [43840]\n",
            " [44370]\n",
            " [43630]\n",
            " [43150]\n",
            " [43550]\n",
            " [43880]\n",
            " [43440]\n",
            " [43300]\n",
            " [44000]]\n",
            "[[41560]]\n"
          ],
          "name": "stdout"
        }
      ]
    },
    {
      "cell_type": "code",
      "metadata": {
        "id": "gVEVa6glxZ6E"
      },
      "source": [
        "import tensorflow as tf\n",
        "from tensorflow import keras\n",
        "from keras.models import Sequential\n",
        "from keras.layers import SimpleRNN,Dense,Input"
      ],
      "execution_count": 77,
      "outputs": []
    },
    {
      "cell_type": "code",
      "metadata": {
        "colab": {
          "base_uri": "https://localhost:8080/"
        },
        "id": "j_VwDypOx0LK",
        "outputId": "7cd11e32-9a8c-4a5c-9710-c0215157b5e3"
      },
      "source": [
        "Net = Sequential()\n",
        "Net.add(SimpleRNN(3,activation='relu',input_shape=X_train.shape[1:]))\n",
        "Net.add(Dense(1,activation='relu'))\n",
        "\n",
        "Net.summary()"
      ],
      "execution_count": 78,
      "outputs": [
        {
          "output_type": "stream",
          "text": [
            "Model: \"sequential_3\"\n",
            "_________________________________________________________________\n",
            "Layer (type)                 Output Shape              Param #   \n",
            "=================================================================\n",
            "simple_rnn_3 (SimpleRNN)     (None, 3)                 15        \n",
            "_________________________________________________________________\n",
            "dense_3 (Dense)              (None, 1)                 4         \n",
            "=================================================================\n",
            "Total params: 19\n",
            "Trainable params: 19\n",
            "Non-trainable params: 0\n",
            "_________________________________________________________________\n"
          ],
          "name": "stdout"
        }
      ]
    },
    {
      "cell_type": "code",
      "metadata": {
        "id": "niR4KHDYyUAN"
      },
      "source": [
        "Net.compile(loss = 'mean_squared_error',optimizer='adam',metrics=['mse'])"
      ],
      "execution_count": 79,
      "outputs": []
    },
    {
      "cell_type": "code",
      "metadata": {
        "colab": {
          "base_uri": "https://localhost:8080/"
        },
        "id": "uNc6yCeyyp0V",
        "outputId": "5480dfae-5578-4676-8616-b2f1f2c11129"
      },
      "source": [
        "Net.fit(X_train,y_train,epochs=10)"
      ],
      "execution_count": 80,
      "outputs": [
        {
          "output_type": "stream",
          "text": [
            "Epoch 1/10\n",
            "31/31 [==============================] - 1s 4ms/step - loss: 391278080.0000 - mse: 391278080.0000\n",
            "Epoch 2/10\n",
            "31/31 [==============================] - 0s 4ms/step - loss: 266696400.0000 - mse: 266696400.0000\n",
            "Epoch 3/10\n",
            "31/31 [==============================] - 0s 4ms/step - loss: 162904048.0000 - mse: 162904048.0000\n",
            "Epoch 4/10\n",
            "31/31 [==============================] - 0s 4ms/step - loss: 85507928.0000 - mse: 85507928.0000\n",
            "Epoch 5/10\n",
            "31/31 [==============================] - 0s 3ms/step - loss: 36429668.0000 - mse: 36429668.0000\n",
            "Epoch 6/10\n",
            "31/31 [==============================] - 0s 4ms/step - loss: 12492422.0000 - mse: 12492422.0000\n",
            "Epoch 7/10\n",
            "31/31 [==============================] - 0s 4ms/step - loss: 4029810.7500 - mse: 4029810.7500\n",
            "Epoch 8/10\n",
            "31/31 [==============================] - 0s 4ms/step - loss: 1994767.0000 - mse: 1994767.0000\n",
            "Epoch 9/10\n",
            "31/31 [==============================] - 0s 3ms/step - loss: 1670327.1250 - mse: 1670327.1250\n",
            "Epoch 10/10\n",
            "31/31 [==============================] - 0s 3ms/step - loss: 1641575.1250 - mse: 1641575.1250\n"
          ],
          "name": "stdout"
        },
        {
          "output_type": "execute_result",
          "data": {
            "text/plain": [
              "<keras.callbacks.History at 0x7f67ba578d90>"
            ]
          },
          "metadata": {},
          "execution_count": 80
        }
      ]
    },
    {
      "cell_type": "code",
      "metadata": {
        "colab": {
          "base_uri": "https://localhost:8080/"
        },
        "id": "z1to3dzoyx2c",
        "outputId": "9ee028e3-9708-4483-d501-6988295f4809"
      },
      "source": [
        "X_test,y_test = arrange(test,15)\n",
        "pred = Net.predict(X_test)\n",
        "pred"
      ],
      "execution_count": 81,
      "outputs": [
        {
          "output_type": "execute_result",
          "data": {
            "text/plain": [
              "array([[19373.098],\n",
              "       [19307.36 ],\n",
              "       [18941.742],\n",
              "       [18972.842],\n",
              "       [18908.756],\n",
              "       [18395.438],\n",
              "       [18560.453],\n",
              "       [18574.354],\n",
              "       [18145.473],\n",
              "       [17846.775],\n",
              "       [17595.104],\n",
              "       [17538.012],\n",
              "       [17452.658],\n",
              "       [17302.807],\n",
              "       [16912.49 ],\n",
              "       [16794.088],\n",
              "       [17167.754],\n",
              "       [17017.324],\n",
              "       [16974.055],\n",
              "       [17423.076],\n",
              "       [17452.43 ],\n",
              "       [17469.3  ],\n",
              "       [17321.627],\n",
              "       [17595.164],\n",
              "       [17748.547],\n",
              "       [17903.95 ],\n",
              "       [18160.643],\n",
              "       [17933.781],\n",
              "       [17968.45 ],\n",
              "       [17894.074],\n",
              "       [17545.744],\n",
              "       [17296.15 ],\n",
              "       [17091.941],\n",
              "       [16956.064],\n",
              "       [17022.053],\n",
              "       [16709.57 ],\n",
              "       [16115.204],\n",
              "       [16250.199],\n",
              "       [16664.707],\n",
              "       [17730.186],\n",
              "       [18629.213],\n",
              "       [18508.395],\n",
              "       [18561.746],\n",
              "       [18246.05 ],\n",
              "       [18243.398],\n",
              "       [17928.691],\n",
              "       [17977.686],\n",
              "       [18585.943],\n",
              "       [18092.652],\n",
              "       [18044.387],\n",
              "       [18413.506],\n",
              "       [18397.781],\n",
              "       [18134.984],\n",
              "       [18205.65 ],\n",
              "       [18244.873],\n",
              "       [18394.273],\n",
              "       [18830.512],\n",
              "       [18565.068],\n",
              "       [18134.072],\n",
              "       [18257.914],\n",
              "       [18067.049],\n",
              "       [18257.209],\n",
              "       [18142.033],\n",
              "       [17967.936],\n",
              "       [18276.404],\n",
              "       [18361.426],\n",
              "       [18367.906],\n",
              "       [18415.549],\n",
              "       [18558.85 ],\n",
              "       [18522.328],\n",
              "       [18370.314],\n",
              "       [18096.168],\n",
              "       [18326.336],\n",
              "       [18295.314],\n",
              "       [17945.732],\n",
              "       [18037.488],\n",
              "       [18008.918],\n",
              "       [17940.816],\n",
              "       [17481.207],\n",
              "       [17222.783],\n",
              "       [17427.748],\n",
              "       [17477.828],\n",
              "       [17718.738],\n",
              "       [17362.13 ],\n",
              "       [16830.277],\n",
              "       [16633.297],\n",
              "       [16494.98 ],\n",
              "       [16190.852],\n",
              "       [16210.884],\n",
              "       [16287.804],\n",
              "       [16032.876],\n",
              "       [16094.016],\n",
              "       [15984.159],\n",
              "       [15737.423],\n",
              "       [15921.415],\n",
              "       [16087.705],\n",
              "       [16308.304],\n",
              "       [16209.041],\n",
              "       [16034.733],\n",
              "       [16148.489],\n",
              "       [15558.169],\n",
              "       [15393.44 ],\n",
              "       [15627.04 ],\n",
              "       [15325.237],\n",
              "       [15639.952],\n",
              "       [15852.358],\n",
              "       [15920.371],\n",
              "       [15867.264],\n",
              "       [15812.748],\n",
              "       [15939.638],\n",
              "       [16188.008],\n",
              "       [15782.554],\n",
              "       [15837.467],\n",
              "       [15559.109],\n",
              "       [15368.328],\n",
              "       [15349.469],\n",
              "       [15537.715],\n",
              "       [15529.937],\n",
              "       [15551.443],\n",
              "       [15793.57 ],\n",
              "       [15645.497],\n",
              "       [15403.397],\n",
              "       [15613.62 ],\n",
              "       [15534.309],\n",
              "       [15607.901],\n",
              "       [15891.72 ],\n",
              "       [16523.059],\n",
              "       [16567.734],\n",
              "       [16766.166],\n",
              "       [17738.123],\n",
              "       [17860.68 ],\n",
              "       [17670.508],\n",
              "       [17871.201],\n",
              "       [17914.615],\n",
              "       [17570.506],\n",
              "       [17371.041],\n",
              "       [16834.139],\n",
              "       [17055.078],\n",
              "       [17256.9  ],\n",
              "       [17186.621],\n",
              "       [16847.975],\n",
              "       [16852.514],\n",
              "       [17031.72 ],\n",
              "       [17008.873],\n",
              "       [17018.16 ],\n",
              "       [16644.252],\n",
              "       [16748.92 ],\n",
              "       [17137.098],\n",
              "       [17183.77 ],\n",
              "       [17168.732],\n",
              "       [17500.404],\n",
              "       [17952.9  ],\n",
              "       [17921.637],\n",
              "       [18036.67 ],\n",
              "       [17989.98 ],\n",
              "       [18143.354],\n",
              "       [18257.137],\n",
              "       [18803.502],\n",
              "       [18662.912],\n",
              "       [18898.627],\n",
              "       [18831.664],\n",
              "       [18727.227],\n",
              "       [19071.953],\n",
              "       [17782.848],\n",
              "       [16868.291],\n",
              "       [17899.354],\n",
              "       [17606.654],\n",
              "       [17577.57 ],\n",
              "       [17962.402],\n",
              "       [18540.652],\n",
              "       [19136.445],\n",
              "       [19146.408],\n",
              "       [18857.383],\n",
              "       [18559.592],\n",
              "       [18419.496],\n",
              "       [18371.41 ],\n",
              "       [18245.111],\n",
              "       [17998.012],\n",
              "       [18190.797],\n",
              "       [18020.941],\n",
              "       [17736.656],\n",
              "       [17879.494],\n",
              "       [18103.512],\n",
              "       [18047.71 ],\n",
              "       [18024.498],\n",
              "       [17848.232],\n",
              "       [17826.246],\n",
              "       [17388.795],\n",
              "       [16895.959],\n",
              "       [17159.115],\n",
              "       [17414.242],\n",
              "       [16846.027],\n",
              "       [17021.227],\n",
              "       [17063.393],\n",
              "       [16700.844],\n",
              "       [16563.377],\n",
              "       [16732.342],\n",
              "       [16779.781],\n",
              "       [16690.389],\n",
              "       [16422.527],\n",
              "       [16710.068],\n",
              "       [16709.338],\n",
              "       [16012.96 ],\n",
              "       [16148.594],\n",
              "       [15876.846],\n",
              "       [15461.644],\n",
              "       [15708.805],\n",
              "       [15837.883],\n",
              "       [16047.993],\n",
              "       [15802.983],\n",
              "       [15692.666],\n",
              "       [15632.407],\n",
              "       [15316.974],\n",
              "       [15328.015],\n",
              "       [15087.432],\n",
              "       [15202.604],\n",
              "       [15034.225],\n",
              "       [14931.06 ],\n",
              "       [15094.837],\n",
              "       [15096.961],\n",
              "       [14814.343],\n",
              "       [14817.3  ],\n",
              "       [15158.254],\n",
              "       [14941.834],\n",
              "       [14812.711],\n",
              "       [14628.45 ],\n",
              "       [14708.282],\n",
              "       [14669.747],\n",
              "       [14597.526],\n",
              "       [14538.279],\n",
              "       [13900.151]], dtype=float32)"
            ]
          },
          "metadata": {},
          "execution_count": 81
        }
      ]
    },
    {
      "cell_type": "code",
      "metadata": {
        "colab": {
          "base_uri": "https://localhost:8080/",
          "height": 265
        },
        "id": "tu6hF0zW1XCM",
        "outputId": "92c15f51-6449-44c9-beb6-fa2ef059f7bb"
      },
      "source": [
        "plot_series([pred[: ,0],y_test[:,:,0]])"
      ],
      "execution_count": 82,
      "outputs": [
        {
          "output_type": "display_data",
          "data": {
            "image/png": "[encoded data removed]",
            "text/plain": [
              "<Figure size 432x288 with 1 Axes>"
            ]
          },
          "metadata": {
            "needs_background": "light"
          }
        }
      ]
    }
  ]
}